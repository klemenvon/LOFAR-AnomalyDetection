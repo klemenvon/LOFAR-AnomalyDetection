{
 "cells": [
  {
   "cell_type": "code",
   "execution_count": 1,
   "metadata": {},
   "outputs": [],
   "source": [
    "import sys\n",
    "import logging\n",
    "sys.path.append('../')\n",
    "import torch\n",
    "from torch.utils.data import DataLoader\n",
    "from src.data.loaders import *\n",
    "from src.data.utils import *"
   ]
  },
  {
   "cell_type": "code",
   "execution_count": 2,
   "metadata": {},
   "outputs": [],
   "source": [
    "# Setup basic logger\n",
    "logging.basicConfig(level=logging.DEBUG)\n",
    "log = logging.getLogger(__name__)"
   ]
  },
  {
   "cell_type": "code",
   "execution_count": 3,
   "metadata": {},
   "outputs": [
    {
     "name": "stdout",
     "output_type": "stream",
     "text": [
      "cuda:0\n"
     ]
    }
   ],
   "source": [
    "mydevice = torch.device(\"cuda:0\" if torch.cuda.is_available() else \"cpu\")\n",
    "print(mydevice)\n",
    "update_collate(mydevice)"
   ]
  },
  {
   "cell_type": "code",
   "execution_count": 4,
   "metadata": {},
   "outputs": [
    {
     "name": "stderr",
     "output_type": "stream",
     "text": [
      "INFO:src.data.loaders:Creating data store on device: cuda:0\n",
      "DEBUG:src.data.utils:[get_fileSAP] Processing file C:/LOFAR/subsubset\\L701795.MS_extract.h5.\n",
      "DEBUG:src.data.utils:Removed 0 duplicate mapping entries.\n",
      "INFO:src.data.loaders:Mapped dataset in C:/LOFAR/subsubset/. 2850 baselines.\n",
      "DEBUG:src.data.loaders:Getting observation 632577 and SAP 0\n"
     ]
    },
    {
     "name": "stdout",
     "output_type": "stream",
     "text": [
      "Creating Preprocessor\n",
      "Creating Data Store\n"
     ]
    },
    {
     "name": "stderr",
     "output_type": "stream",
     "text": [
      "DEBUG:h5py._conv:Creating converter from 3 to 5\n",
      "DEBUG:__main__:Dataset length: 2850\n",
      "DEBUG:__main__:Dataset map: {632577: 'C:/LOFAR/subsubset\\\\L701795.MS_extract.h5'}\n"
     ]
    },
    {
     "name": "stdout",
     "output_type": "stream",
     "text": [
      "Creating Dataset\n",
      "Creating Data Loader\n",
      "Done.\n"
     ]
    }
   ],
   "source": [
    "# Try to set up a data loader and see if it works\n",
    "print('Creating Preprocessor')\n",
    "preprocessor = Preprocessor(device=mydevice)\n",
    "print('Creating Data Store')\n",
    "data_store = DataStore(\n",
    "    data_dir='C:/LOFAR/subsubset/',\n",
    "    preprocessor=preprocessor,\n",
    "    device=mydevice,\n",
    "    uv=True\n",
    ")\n",
    "print('Creating Dataset')\n",
    "dataset = LOFARDataset(\n",
    "    data=data_store,\n",
    "    preprocessor=preprocessor,\n",
    "    uv=True\n",
    ")\n",
    "log.debug(f\"Dataset length: {len(dataset)}\")\n",
    "log.debug(f\"Dataset map: {data_store.map}\")\n",
    "print('Creating Data Loader')\n",
    "data_loader = DataLoader(\n",
    "    dataset=dataset,\n",
    "    batch_size=1,\n",
    "    shuffle=True,\n",
    "    collate_fn=collate_fn['patch'],\n",
    ")\n",
    "print('Done.')"
   ]
  },
  {
   "cell_type": "code",
   "execution_count": 5,
   "metadata": {},
   "outputs": [
    {
     "name": "stderr",
     "output_type": "stream",
     "text": [
      "INFO:src.data.loaders:Getting baseline torch.Size([2, 4, 128, 128]) with uv torch.Size([2, 2]).\n",
      "INFO:__main__:torch.Size([1, 256, 128, 128])\n",
      "INFO:src.data.loaders:Getting baseline torch.Size([2, 4, 128, 128]) with uv torch.Size([2, 2]).\n",
      "INFO:__main__:torch.Size([1, 256, 128, 128])\n",
      "INFO:src.data.loaders:Getting baseline torch.Size([2, 4, 128, 128]) with uv torch.Size([2, 2]).\n",
      "INFO:__main__:torch.Size([1, 256, 128, 128])\n",
      "INFO:src.data.loaders:Getting baseline torch.Size([2, 4, 128, 128]) with uv torch.Size([2, 2]).\n",
      "INFO:__main__:torch.Size([1, 256, 128, 128])\n",
      "INFO:src.data.loaders:Getting baseline torch.Size([2, 4, 128, 128]) with uv torch.Size([2, 2]).\n",
      "INFO:__main__:torch.Size([1, 256, 128, 128])\n",
      "INFO:src.data.loaders:Getting baseline torch.Size([2, 4, 128, 128]) with uv torch.Size([2, 2]).\n",
      "INFO:__main__:torch.Size([1, 256, 128, 128])\n",
      "INFO:src.data.loaders:Getting baseline torch.Size([2, 4, 128, 128]) with uv torch.Size([2, 2]).\n",
      "INFO:__main__:torch.Size([1, 256, 128, 128])\n",
      "INFO:src.data.loaders:Getting baseline torch.Size([2, 4, 128, 128]) with uv torch.Size([2, 2]).\n",
      "INFO:__main__:torch.Size([1, 256, 128, 128])\n",
      "INFO:src.data.loaders:Getting baseline torch.Size([2, 4, 128, 128]) with uv torch.Size([2, 2]).\n",
      "INFO:__main__:torch.Size([1, 256, 128, 128])\n",
      "INFO:src.data.loaders:Getting baseline torch.Size([2, 4, 128, 128]) with uv torch.Size([2, 2]).\n",
      "INFO:__main__:torch.Size([1, 256, 128, 128])\n"
     ]
    },
    {
     "name": "stdout",
     "output_type": "stream",
     "text": [
      "iter\n",
      "iter\n",
      "iter\n",
      "iter\n",
      "iter\n",
      "iter\n",
      "iter\n",
      "iter\n",
      "iter\n",
      "iter\n"
     ]
    }
   ],
   "source": [
    "# Iterate through the data loader and see if it works\n",
    "counter = 0\n",
    "for x,_ in data_loader:\n",
    "    counter += 1\n",
    "    print('iter')\n",
    "    log.info(x.shape)\n",
    "    if counter == 10:\n",
    "        break"
   ]
  },
  {
   "cell_type": "code",
   "execution_count": 6,
   "metadata": {},
   "outputs": [
    {
     "name": "stderr",
     "output_type": "stream",
     "text": [
      "c:\\Users\\Klemen\\mambaforge\\envs\\msproj\\Lib\\site-packages\\hydra\\experimental\\initialize.py:43: UserWarning: hydra.experimental.initialize() is no longer experimental. Use hydra.initialize()\n",
      "  deprecation_warning(message=message)\n",
      "c:\\Users\\Klemen\\mambaforge\\envs\\msproj\\Lib\\site-packages\\hydra\\experimental\\initialize.py:45: UserWarning: \n",
      "The version_base parameter is not specified.\n",
      "Please specify a compatability version level, or None.\n",
      "Will assume defaults for version 1.1\n",
      "  self.delegate = real_initialize(\n",
      "DEBUG:hydra.core.utils:Setting JobRuntime:name=UNKNOWN_NAME\n",
      "DEBUG:hydra.core.utils:Setting JobRuntime:name=notebook\n",
      "c:\\Users\\Klemen\\mambaforge\\envs\\msproj\\Lib\\site-packages\\hydra\\experimental\\compose.py:25: UserWarning: hydra.experimental.compose() is no longer experimental. Use hydra.compose()\n",
      "  deprecation_warning(message=message)\n"
     ]
    }
   ],
   "source": [
    "from hydra.experimental import compose, initialize\n",
    "from hydra.utils import instantiate\n",
    "initialize(config_path=\"../config\")\n",
    "cfg = compose(config_name=\"config\")"
   ]
  },
  {
   "cell_type": "code",
   "execution_count": 7,
   "metadata": {},
   "outputs": [
    {
     "name": "stderr",
     "output_type": "stream",
     "text": [
      "INFO:src.data.loaders:Creating data store on device: cuda:0\n",
      "DEBUG:src.data.utils:[get_fileSAP] Processing file C:/LOFAR/subsubset\\L701795.MS_extract.h5.\n",
      "DEBUG:src.data.utils:Removed 0 duplicate mapping entries.\n",
      "INFO:src.data.loaders:Mapped dataset in C:/LOFAR/subsubset/. 2850 baselines.\n",
      "DEBUG:src.data.loaders:Getting observation 632577 and SAP 0\n"
     ]
    }
   ],
   "source": [
    "lofar_data_module = LOFARDataModule(\n",
    "    data_conf=cfg.data,\n",
    "    preproc_conf=cfg.preproc,\n",
    "    loader_conf=cfg.loader,\n",
    ")"
   ]
  },
  {
   "cell_type": "code",
   "execution_count": 8,
   "metadata": {},
   "outputs": [
    {
     "name": "stdout",
     "output_type": "stream",
     "text": [
      "BasicBottleneck: in_units=131072, out_units=131072, latent=256\n"
     ]
    }
   ],
   "source": [
    "model = instantiate(cfg.model)"
   ]
  }
 ],
 "metadata": {
  "kernelspec": {
   "display_name": "msproj",
   "language": "python",
   "name": "python3"
  },
  "language_info": {
   "codemirror_mode": {
    "name": "ipython",
    "version": 3
   },
   "file_extension": ".py",
   "mimetype": "text/x-python",
   "name": "python",
   "nbconvert_exporter": "python",
   "pygments_lexer": "ipython3",
   "version": "3.11.5"
  }
 },
 "nbformat": 4,
 "nbformat_minor": 2
}
